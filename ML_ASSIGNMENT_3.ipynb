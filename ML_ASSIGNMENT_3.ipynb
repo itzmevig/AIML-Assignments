{
  "nbformat": 4,
  "nbformat_minor": 0,
  "metadata": {
    "colab": {
      "provenance": []
    },
    "kernelspec": {
      "name": "python3",
      "display_name": "Python 3"
    },
    "language_info": {
      "name": "python"
    }
  },
  "cells": [
    {
      "cell_type": "code",
      "execution_count": 10,
      "metadata": {
        "colab": {
          "base_uri": "https://localhost:8080/"
        },
        "id": "v4sQU2vFHXo6",
        "outputId": "cf31d909-e159-4092-fc63-0b5a3f23b549"
      },
      "outputs": [
        {
          "output_type": "stream",
          "name": "stdout",
          "text": [
            "   battery_power  blue  clock_speed  dual_sim  fc  four_g  int_memory  m_dep  \\\n",
            "0            842     0          2.2         0   1       0           7    0.6   \n",
            "1           1021     1          0.5         1   0       1          53    0.7   \n",
            "2            563     1          0.5         1   2       1          41    0.9   \n",
            "3            615     1          2.5         0   0       0          10    0.8   \n",
            "4           1821     1          1.2         0  13       1          44    0.6   \n",
            "\n",
            "   mobile_wt  n_cores  ...  px_height  px_width   ram  sc_h  sc_w  talk_time  \\\n",
            "0        188        2  ...         20       756  2549     9     7         19   \n",
            "1        136        3  ...        905      1988  2631    17     3          7   \n",
            "2        145        5  ...       1263      1716  2603    11     2          9   \n",
            "3        131        6  ...       1216      1786  2769    16     8         11   \n",
            "4        141        2  ...       1208      1212  1411     8     2         15   \n",
            "\n",
            "   three_g  touch_screen  wifi  price_range  \n",
            "0        0             0     1            1  \n",
            "1        1             1     0            2  \n",
            "2        1             1     0            2  \n",
            "3        1             0     0            2  \n",
            "4        1             1     0            1  \n",
            "\n",
            "[5 rows x 21 columns]\n",
            "\n",
            "Features:\n",
            "   battery_power  blue  clock_speed  dual_sim  fc  four_g  int_memory  m_dep  \\\n",
            "0            842     0          2.2         0   1       0           7    0.6   \n",
            "1           1021     1          0.5         1   0       1          53    0.7   \n",
            "2            563     1          0.5         1   2       1          41    0.9   \n",
            "3            615     1          2.5         0   0       0          10    0.8   \n",
            "4           1821     1          1.2         0  13       1          44    0.6   \n",
            "\n",
            "   mobile_wt  n_cores  pc  px_height  px_width   ram  sc_h  sc_w  talk_time  \\\n",
            "0        188        2   2         20       756  2549     9     7         19   \n",
            "1        136        3   6        905      1988  2631    17     3          7   \n",
            "2        145        5   6       1263      1716  2603    11     2          9   \n",
            "3        131        6   9       1216      1786  2769    16     8         11   \n",
            "4        141        2  14       1208      1212  1411     8     2         15   \n",
            "\n",
            "   three_g  touch_screen  wifi  \n",
            "0        0             0     1  \n",
            "1        1             1     0  \n",
            "2        1             1     0  \n",
            "3        1             0     0  \n",
            "4        1             1     0  \n",
            "\n",
            "Target Variable (price_range):\n",
            "0    1\n",
            "1    2\n",
            "2    2\n",
            "3    2\n",
            "4    1\n",
            "Name: price_range, dtype: int64\n"
          ]
        }
      ],
      "source": [
        "import pandas as pd\n",
        "\n",
        "\n",
        "data = pd.read_csv(\"/content/train.csv\")\n",
        "\n",
        "\n",
        "print(data.head())\n",
        "\n",
        "features = data.drop(\"price_range\", axis=1)\n",
        "target = data[\"price_range\"]\n",
        "\n",
        "print(\"\\nFeatures:\")\n",
        "print(features.head())\n",
        "\n",
        "print(\"\\nTarget Variable (price_range):\")\n",
        "print(target.head())"
      ]
    },
    {
      "cell_type": "code",
      "source": [
        "from sklearn.preprocessing import MinMaxScaler\n",
        "\n",
        "\n",
        "scaler = MinMaxScaler()\n",
        "\n",
        "\n",
        "scaled_features = scaler.fit_transform(features)\n",
        "\n",
        "\n",
        "scaled_features_df = pd.DataFrame(scaled_features, columns=features.columns)\n",
        "\n",
        "\n",
        "print(\"Normalized Features:\")\n",
        "print(scaled_features_df.head())\n",
        "\n"
      ],
      "metadata": {
        "colab": {
          "base_uri": "https://localhost:8080/"
        },
        "id": "ysuMzxFuMQDN",
        "outputId": "f955fed8-f9d3-4130-dd4a-210f6c342268"
      },
      "execution_count": 11,
      "outputs": [
        {
          "output_type": "stream",
          "name": "stdout",
          "text": [
            "Normalized Features:\n",
            "   battery_power  blue  clock_speed  dual_sim        fc  four_g  int_memory  \\\n",
            "0       0.227789   0.0         0.68       0.0  0.052632     0.0    0.080645   \n",
            "1       0.347361   1.0         0.00       1.0  0.000000     1.0    0.822581   \n",
            "2       0.041416   1.0         0.00       1.0  0.105263     1.0    0.629032   \n",
            "3       0.076152   1.0         0.80       0.0  0.000000     0.0    0.129032   \n",
            "4       0.881764   1.0         0.28       0.0  0.684211     1.0    0.677419   \n",
            "\n",
            "      m_dep  mobile_wt   n_cores    pc  px_height  px_width       ram  \\\n",
            "0  0.555556   0.900000  0.142857  0.10   0.010204  0.170895  0.612774   \n",
            "1  0.666667   0.466667  0.285714  0.30   0.461735  0.993324  0.634687   \n",
            "2  0.888889   0.541667  0.571429  0.30   0.644388  0.811749  0.627205   \n",
            "3  0.777778   0.425000  0.714286  0.45   0.620408  0.858478  0.671566   \n",
            "4  0.555556   0.508333  0.142857  0.70   0.616327  0.475300  0.308658   \n",
            "\n",
            "       sc_h      sc_w  talk_time  three_g  touch_screen  wifi  \n",
            "0  0.285714  0.388889   0.944444      0.0           0.0   1.0  \n",
            "1  0.857143  0.166667   0.277778      1.0           1.0   0.0  \n",
            "2  0.428571  0.111111   0.388889      1.0           1.0   0.0  \n",
            "3  0.785714  0.444444   0.500000      1.0           0.0   0.0  \n",
            "4  0.214286  0.111111   0.722222      1.0           1.0   0.0  \n"
          ]
        }
      ]
    },
    {
      "cell_type": "code",
      "source": [
        "from sklearn.model_selection import train_test_split\n",
        "\n",
        "\n",
        "X_train, X_test, y_train, y_test = train_test_split(features, target, test_size=0.2, random_state=42)\n",
        "\n",
        "\n",
        "print(\"Train set shape:\", X_train.shape)\n",
        "print(\"Test set shape:\", X_test.shape)\n",
        "from sklearn.model_selection import train_test_split\n",
        "\n",
        "\n",
        "X_train, X_test, y_train, y_test = train_test_split(features, target, test_size=0.2, random_state=42)\n",
        "print(\"Train set shape:\", X_train.shape)\n",
        "print(\"Test set shape:\", X_test.shape)"
      ],
      "metadata": {
        "colab": {
          "base_uri": "https://localhost:8080/"
        },
        "id": "vHpDw2vNMVlf",
        "outputId": "f077ba20-6696-4ff1-ffd1-46c133abd933"
      },
      "execution_count": 12,
      "outputs": [
        {
          "output_type": "stream",
          "name": "stdout",
          "text": [
            "Train set shape: (1600, 20)\n",
            "Test set shape: (400, 20)\n",
            "Train set shape: (1600, 20)\n",
            "Test set shape: (400, 20)\n"
          ]
        }
      ]
    },
    {
      "cell_type": "code",
      "source": [
        "import pandas as pd\n",
        "import warnings\n",
        "from sklearn.model_selection import train_test_split\n",
        "from sklearn.linear_model import LogisticRegression\n",
        "from sklearn.metrics import accuracy_score, precision_score, recall_score, confusion_matrix\n",
        "\n",
        "warnings.filterwarnings(\"ignore\")\n",
        "\n",
        "\n",
        "data = pd.read_csv(\"train.csv\")\n",
        "\n",
        "\n",
        "X = data.drop(\"price_range\", axis=1)\n",
        "y = data[\"price_range\"]\n",
        "\n",
        "\n",
        "X_train, X_test, y_train, y_test = train_test_split(X, y, test_size=0.2, random_state=42)\n",
        "\n",
        "model = LogisticRegression(max_iter=1000)\n",
        "\n",
        "\n",
        "model.fit(X_train, y_train)\n",
        "\n",
        "\n",
        "y_pred = model.predict(X_test)\n",
        "\n",
        "\n",
        "accuracy = accuracy_score(y_test, y_pred)\n",
        "precision = precision_score(y_test, y_pred, average='weighted')\n",
        "recall = recall_score(y_test, y_pred, average='weighted')\n",
        "conf_matrix = confusion_matrix(y_test, y_pred)\n",
        "\n",
        "\n",
        "print(\"Accuracy:\", accuracy)\n",
        "print(\"Precision:\", precision)\n",
        "print(\"Recall:\", recall)\n",
        "print(\"Confusion Matrix:\")\n",
        "print(conf_matrix)"
      ],
      "metadata": {
        "colab": {
          "base_uri": "https://localhost:8080/"
        },
        "id": "4unnSWyhOPDk",
        "outputId": "f9d03536-44f7-458c-9057-c1c1cce25209"
      },
      "execution_count": 13,
      "outputs": [
        {
          "output_type": "stream",
          "name": "stdout",
          "text": [
            "Accuracy: 0.73\n",
            "Precision: 0.7365416673696998\n",
            "Recall: 0.73\n",
            "Confusion Matrix:\n",
            "[[88 17  0  0]\n",
            " [ 6 62 18  5]\n",
            " [ 0 18 52 22]\n",
            " [ 0  0 22 90]]\n"
          ]
        }
      ]
    }
  ]
}